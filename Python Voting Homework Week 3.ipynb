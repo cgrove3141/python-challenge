{
 "cells": [
  {
   "cell_type": "code",
   "execution_count": 1,
   "metadata": {},
   "outputs": [],
   "source": [
    "import pandas as pd"
   ]
  },
  {
   "cell_type": "code",
   "execution_count": 2,
   "metadata": {},
   "outputs": [
    {
     "data": {
      "text/html": [
       "<div>\n",
       "<style scoped>\n",
       "    .dataframe tbody tr th:only-of-type {\n",
       "        vertical-align: middle;\n",
       "    }\n",
       "\n",
       "    .dataframe tbody tr th {\n",
       "        vertical-align: top;\n",
       "    }\n",
       "\n",
       "    .dataframe thead th {\n",
       "        text-align: right;\n",
       "    }\n",
       "</style>\n",
       "<table border=\"1\" class=\"dataframe\">\n",
       "  <thead>\n",
       "    <tr style=\"text-align: right;\">\n",
       "      <th></th>\n",
       "      <th>Voter ID</th>\n",
       "      <th>County</th>\n",
       "      <th>Candidate</th>\n",
       "    </tr>\n",
       "  </thead>\n",
       "  <tbody>\n",
       "    <tr>\n",
       "      <th>0</th>\n",
       "      <td>12864552</td>\n",
       "      <td>Marsh</td>\n",
       "      <td>Khan</td>\n",
       "    </tr>\n",
       "    <tr>\n",
       "      <th>1</th>\n",
       "      <td>17444633</td>\n",
       "      <td>Marsh</td>\n",
       "      <td>Correy</td>\n",
       "    </tr>\n",
       "    <tr>\n",
       "      <th>2</th>\n",
       "      <td>19330107</td>\n",
       "      <td>Marsh</td>\n",
       "      <td>Khan</td>\n",
       "    </tr>\n",
       "    <tr>\n",
       "      <th>3</th>\n",
       "      <td>19865775</td>\n",
       "      <td>Queen</td>\n",
       "      <td>Khan</td>\n",
       "    </tr>\n",
       "    <tr>\n",
       "      <th>4</th>\n",
       "      <td>11927875</td>\n",
       "      <td>Marsh</td>\n",
       "      <td>Khan</td>\n",
       "    </tr>\n",
       "  </tbody>\n",
       "</table>\n",
       "</div>"
      ],
      "text/plain": [
       "   Voter ID County Candidate\n",
       "0  12864552  Marsh      Khan\n",
       "1  17444633  Marsh    Correy\n",
       "2  19330107  Marsh      Khan\n",
       "3  19865775  Queen      Khan\n",
       "4  11927875  Marsh      Khan"
      ]
     },
     "execution_count": 2,
     "metadata": {},
     "output_type": "execute_result"
    }
   ],
   "source": [
    "data = \"Resources/election_data.csv\"\n",
    "election_data = pd.read_csv(data)\n",
    "election_data.head()"
   ]
  },
  {
   "cell_type": "code",
   "execution_count": 3,
   "metadata": {},
   "outputs": [
    {
     "name": "stdout",
     "output_type": "stream",
     "text": [
      "3521001\n",
      "['Khan' 'Correy' 'Li' \"O'Tooley\"]\n"
     ]
    }
   ],
   "source": [
    "votes = len(election_data[\"Voter ID\"].unique())\n",
    "print(votes)\n",
    "print(election_data[\"Candidate\"].unique())"
   ]
  },
  {
   "cell_type": "code",
   "execution_count": 4,
   "metadata": {},
   "outputs": [],
   "source": [
    "value_counts = election_data['Candidate'].value_counts(dropna=True, sort=True)\n",
    "df = value_counts.rename_axis('Candidate').reset_index(name='votes')\n",
    "winner = (df[\"Candidate\"][0])\n",
    "#I could have made a bunch of if statements to see if each of the 4 had a larger vote total than the others but this was more fun"
   ]
  },
  {
   "cell_type": "code",
   "execution_count": 5,
   "metadata": {},
   "outputs": [],
   "source": [
    "khan_votes = 0\n",
    "correy_votes = 0\n",
    "li_votes = 0\n",
    "otooley_votes = 0\n",
    "\n",
    "for vote in range(len(election_data)):\n",
    "    if election_data[\"Candidate\"][vote] == \"Khan\":\n",
    "         khan_votes += 1\n",
    "    elif election_data[\"Candidate\"][vote] == \"Correy\":\n",
    "         correy_votes += 1\n",
    "    elif election_data[\"Candidate\"][vote] == \"Li\":\n",
    "         li_votes += 1\n",
    "    elif election_data[\"Candidate\"][vote] == \"O'Tooley\":\n",
    "         otooley_votes += 1\n"
   ]
  },
  {
   "cell_type": "code",
   "execution_count": 6,
   "metadata": {},
   "outputs": [],
   "source": [
    "khan_percent = khan_votes/votes*100\n",
    "correy_percent = correy_votes/votes*100\n",
    "li_percent = li_votes/votes*100\n",
    "otooley_percent = otooley_votes/votes*100"
   ]
  },
  {
   "cell_type": "code",
   "execution_count": 7,
   "metadata": {},
   "outputs": [
    {
     "name": "stdout",
     "output_type": "stream",
     "text": [
      "Election Results\n",
      "\n",
      "Total Votes: 3521001\n",
      "\n",
      "Khan: 63.0% (2218231)\n",
      "Correy: 20.0% (704200)\n",
      "Li: 14.0% (492940)\n",
      "O'Tooley: 3.0% (105630)\n",
      "\n",
      "Winner: Khan\n"
     ]
    }
   ],
   "source": [
    "print(\"Election Results\")\n",
    "print(\"\")\n",
    "print(\"Total Votes: \" + str(votes))\n",
    "print(\"\")\n",
    "print(\"Khan: \" + str(round(khan_percent,3)) + \"% (\" + str(khan_votes) + \")\")\n",
    "print(\"Correy: \" + str(round(correy_percent,3)) + \"% (\" + str(correy_votes) + \")\")\n",
    "print(\"Li: \" + str(round(li_percent,3)) + \"% (\" + str(li_votes) + \")\")\n",
    "print(\"O'Tooley: \" + str(round(otooley_percent,3)) + \"% (\" + str(otooley_votes) + \")\")\n",
    "print(\"\")\n",
    "print(\"Winner: \" + winner)"
   ]
  },
  {
   "cell_type": "code",
   "execution_count": 8,
   "metadata": {},
   "outputs": [
    {
     "data": {
      "text/plain": [
       "12"
      ]
     },
     "execution_count": 8,
     "metadata": {},
     "output_type": "execute_result"
    }
   ],
   "source": [
    "f= open(\"Voting_Stats.txt\",\"w+\")\n",
    "f.write(\"Election Results\")\n",
    "f.write(\"\")\n",
    "f.write(\"Total Votes: \" + str(votes))\n",
    "f.write(\"\")\n",
    "f.write(\"Khan: \" + str(round(khan_percent,3)) + \"% (\" + str(khan_votes) + \")\")\n",
    "f.write(\"Correy: \" + str(round(correy_percent,3)) + \"% (\" + str(correy_votes) + \")\")\n",
    "f.write(\"Li: \" + str(round(li_percent,3)) + \"% (\" + str(li_votes) + \")\")\n",
    "f.write(\"O'Tooley: \" + str(round(otooley_percent,3)) + \"% (\" + str(otooley_votes) + \")\")\n",
    "f.write(\"\")\n",
    "f.write(\"Winner: \" + winner)"
   ]
  },
  {
   "cell_type": "code",
   "execution_count": null,
   "metadata": {},
   "outputs": [],
   "source": []
  }
 ],
 "metadata": {
  "kernelspec": {
   "display_name": "Python 3",
   "language": "python",
   "name": "python3"
  },
  "language_info": {
   "codemirror_mode": {
    "name": "ipython",
    "version": 3
   },
   "file_extension": ".py",
   "mimetype": "text/x-python",
   "name": "python",
   "nbconvert_exporter": "python",
   "pygments_lexer": "ipython3",
   "version": "3.8.3"
  }
 },
 "nbformat": 4,
 "nbformat_minor": 4
}
