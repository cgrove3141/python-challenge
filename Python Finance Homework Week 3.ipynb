{
 "cells": [
  {
   "cell_type": "code",
   "execution_count": 1,
   "metadata": {},
   "outputs": [],
   "source": [
    "import pandas as pd"
   ]
  },
  {
   "cell_type": "code",
   "execution_count": 2,
   "metadata": {},
   "outputs": [
    {
     "data": {
      "text/html": [
       "<div>\n",
       "<style scoped>\n",
       "    .dataframe tbody tr th:only-of-type {\n",
       "        vertical-align: middle;\n",
       "    }\n",
       "\n",
       "    .dataframe tbody tr th {\n",
       "        vertical-align: top;\n",
       "    }\n",
       "\n",
       "    .dataframe thead th {\n",
       "        text-align: right;\n",
       "    }\n",
       "</style>\n",
       "<table border=\"1\" class=\"dataframe\">\n",
       "  <thead>\n",
       "    <tr style=\"text-align: right;\">\n",
       "      <th></th>\n",
       "      <th>Date</th>\n",
       "      <th>Profit/Losses</th>\n",
       "    </tr>\n",
       "  </thead>\n",
       "  <tbody>\n",
       "    <tr>\n",
       "      <th>0</th>\n",
       "      <td>Jan-2010</td>\n",
       "      <td>867884</td>\n",
       "    </tr>\n",
       "    <tr>\n",
       "      <th>1</th>\n",
       "      <td>Feb-2010</td>\n",
       "      <td>984655</td>\n",
       "    </tr>\n",
       "    <tr>\n",
       "      <th>2</th>\n",
       "      <td>Mar-2010</td>\n",
       "      <td>322013</td>\n",
       "    </tr>\n",
       "    <tr>\n",
       "      <th>3</th>\n",
       "      <td>Apr-2010</td>\n",
       "      <td>-69417</td>\n",
       "    </tr>\n",
       "    <tr>\n",
       "      <th>4</th>\n",
       "      <td>May-2010</td>\n",
       "      <td>310503</td>\n",
       "    </tr>\n",
       "  </tbody>\n",
       "</table>\n",
       "</div>"
      ],
      "text/plain": [
       "       Date  Profit/Losses\n",
       "0  Jan-2010         867884\n",
       "1  Feb-2010         984655\n",
       "2  Mar-2010         322013\n",
       "3  Apr-2010         -69417\n",
       "4  May-2010         310503"
      ]
     },
     "execution_count": 2,
     "metadata": {},
     "output_type": "execute_result"
    }
   ],
   "source": [
    "data = \"Resources/budget_data.csv\"\n",
    "budget_data = pd.read_csv(data)\n",
    "budget_data.head()"
   ]
  },
  {
   "cell_type": "code",
   "execution_count": 3,
   "metadata": {},
   "outputs": [
    {
     "name": "stdout",
     "output_type": "stream",
     "text": [
      "86\n"
     ]
    }
   ],
   "source": [
    "months = len(budget_data[\"Date\"].unique())\n",
    "print(months)\n",
    "#I know I could have just counted the number of months and they're all different, but I wanted this to be generalizable to\n",
    "#a case where there's more than 1 data point per month"
   ]
  },
  {
   "cell_type": "code",
   "execution_count": 17,
   "metadata": {},
   "outputs": [
    {
     "name": "stdout",
     "output_type": "stream",
     "text": [
      "38382578\n",
      "-2315.1176470588234\n"
     ]
    }
   ],
   "source": [
    "profit_loss = budget_data[\"Profit/Losses\"].sum()\n",
    "print(profit_loss)\n",
    "\n",
    "profit_loss_change = 0\n",
    "mean_months = 0\n",
    "\n",
    "for month in range(len(budget_data)):\n",
    "    if month-1 > -1:\n",
    "        profit_loss_change += budget_data[\"Profit/Losses\"][month] - budget_data[\"Profit/Losses\"][month-1]\n",
    "        mean_months = mean_months+1\n",
    "profit_loss_mean = profit_loss_change / mean_months\n",
    "print(profit_loss_mean)"
   ]
  },
  {
   "cell_type": "code",
   "execution_count": 14,
   "metadata": {},
   "outputs": [
    {
     "name": "stdout",
     "output_type": "stream",
     "text": [
      "Financial Analysis\n",
      "\n",
      "Total Months 86\n"
     ]
    }
   ],
   "source": [
    "biggest_increase_profits = 0\n",
    "biggest_decrease_losses = 0\n",
    "biggest_growth_month = []\n",
    "biggest_shrink_month = []\n",
    "\n",
    "for month in range(len(budget_data)):\n",
    "    if month-1 > -1:\n",
    "        if (budget_data[\"Profit/Losses\"][month] - budget_data[\"Profit/Losses\"][month-1]) > biggest_increase_profits:\n",
    "            biggest_increase_profits = budget_data[\"Profit/Losses\"][month] - budget_data[\"Profit/Losses\"][month-1]\n",
    "            biggest_growth_month = budget_data[\"Date\"][month]\n",
    "        elif (budget_data[\"Profit/Losses\"][month] - budget_data[\"Profit/Losses\"][month-1]) < biggest_decrease_losses:\n",
    "            biggest_decrease_losses = budget_data[\"Profit/Losses\"][month] - budget_data[\"Profit/Losses\"][month-1]\n",
    "            biggest_shrink_month = budget_data[\"Date\"][month]\n"
   ]
  },
  {
   "cell_type": "code",
   "execution_count": 20,
   "metadata": {},
   "outputs": [
    {
     "name": "stdout",
     "output_type": "stream",
     "text": [
      "Financial Analysis\n",
      "\n",
      "Total Months: 86\n",
      "Total: -196785\n",
      "Average  Change: -2315.1176470588234\n",
      "Greatest Increase in Profits: Feb-2012 ($1926159)\n",
      "Greatest Decrease in Profits: Sep-2013 ($-2196167)\n"
     ]
    }
   ],
   "source": [
    "print(\"Financial Analysis\")\n",
    "print(\"\")\n",
    "print(\"Total Months: \" + str(months))\n",
    "print(\"Total: \" + str(profit_loss_change))\n",
    "print(\"Average  Change: \" + str(profit_loss_mean))\n",
    "print(\"Greatest Increase in Profits: \" + biggest_growth_month + \" ($\" + str(biggest_increase_profits)+\")\")\n",
    "print(\"Greatest Decrease in Profits: \" + biggest_shrink_month + \" ($\" + str(biggest_decrease_losses)+\")\")"
   ]
  },
  {
   "cell_type": "code",
   "execution_count": 23,
   "metadata": {},
   "outputs": [
    {
     "data": {
      "text/plain": [
       "50"
      ]
     },
     "execution_count": 23,
     "metadata": {},
     "output_type": "execute_result"
    }
   ],
   "source": [
    "f= open(\"PL_Stats.txt\",\"w+\")\n",
    "f.write(\"Financial Analysis\")\n",
    "f.write(\"\")\n",
    "f.write(\"Total Months: \" + str(months))\n",
    "f.write(\"Total: \" + str(profit_loss_change))\n",
    "f.write(\"Average  Change: \" + str(profit_loss_mean))\n",
    "f.write(\"Greatest Increase in Profits: \" + biggest_growth_month + \" ($\" + str(biggest_increase_profits)+\")\")\n",
    "f.write(\"Greatest Decrease in Profits: \" + biggest_shrink_month + \" ($\" + str(biggest_decrease_losses)+\")\")"
   ]
  },
  {
   "cell_type": "code",
   "execution_count": null,
   "metadata": {},
   "outputs": [],
   "source": []
  }
 ],
 "metadata": {
  "kernelspec": {
   "display_name": "Python 3",
   "language": "python",
   "name": "python3"
  },
  "language_info": {
   "codemirror_mode": {
    "name": "ipython",
    "version": 3
   },
   "file_extension": ".py",
   "mimetype": "text/x-python",
   "name": "python",
   "nbconvert_exporter": "python",
   "pygments_lexer": "ipython3",
   "version": "3.8.3"
  }
 },
 "nbformat": 4,
 "nbformat_minor": 4
}
